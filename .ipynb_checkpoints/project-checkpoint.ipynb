{
 "cells": [
  {
   "cell_type": "code",
   "execution_count": 1,
   "id": "dab13365-74c1-41be-afaf-e770d7b003cc",
   "metadata": {},
   "outputs": [],
   "source": [
    "import warnings\n",
    "import matplotlib.pyplot as plt\n",
    "import seaborn as sns\n",
    "import numpy as np\n",
    "import pandas as pd\n",
    "import re\n",
    "import nltk\n",
    "from nltk.corpus import stopwords\n",
    "from nltk.stem.porter import PorterStemmer\n",
    "from nltk.stem import WordNetLemmatizer\n",
    "from sklearn.feature_extraction.text import TfidfVectorizer\n",
    "from sklearn.preprocessing import LabelEncoder\n",
    "from sklearn.model_selection import train_test_split\n",
    "from sklearn.pipeline import Pipeline    \n",
    "from sklearn.naive_bayes import MultinomialNB\n",
    "from sklearn.ensemble import RandomForestClassifier, GradientBoostingClassifier\n",
    "from sklearn.svm import SVC, LinearSVC\n",
    "from sklearn.linear_model import LogisticRegression\n",
    "from sklearn.tree import DecisionTreeClassifier\n",
    "from sklearn.ensemble import AdaBoostClassifier\n",
    "from xgboost import XGBClassifier\n",
    "from sklearn.neighbors import KNeighborsClassifier\n",
    "from sklearn.model_selection import cross_val_score\n",
    "from matplotlib.colors import ListedColormap\n",
    "from sklearn.metrics import precision_score, recall_score, ConfusionMatrixDisplay, classification_report, accuracy_score, f1_score\n",
    "from sklearn import metrics"
   ]
  },
  {
   "cell_type": "code",
   "execution_count": 2,
   "id": "2f33ec82-f0da-4db4-b4a5-556651cdbee6",
   "metadata": {},
   "outputs": [
    {
     "name": "stdout",
     "output_type": "stream",
     "text": [
      "<class 'pandas.core.frame.DataFrame'>\n",
      "RangeIndex: 5572 entries, 0 to 5571\n",
      "Data columns (total 5 columns):\n",
      " #   Column      Non-Null Count  Dtype \n",
      "---  ------      --------------  ----- \n",
      " 0   v1          5572 non-null   object\n",
      " 1   v2          5572 non-null   object\n",
      " 2   Unnamed: 2  50 non-null     object\n",
      " 3   Unnamed: 3  12 non-null     object\n",
      " 4   Unnamed: 4  6 non-null      object\n",
      "dtypes: object(5)\n",
      "memory usage: 217.8+ KB\n"
     ]
    }
   ],
   "source": [
    "data = pd.read_csv(\"spam.csv\", encoding='latin1')\n",
    "data.info()"
   ]
  },
  {
   "cell_type": "code",
   "execution_count": 3,
   "id": "1901cb55-bfad-43e4-8181-094ba23bc627",
   "metadata": {},
   "outputs": [
    {
     "data": {
      "text/html": [
       "<div>\n",
       "<style scoped>\n",
       "    .dataframe tbody tr th:only-of-type {\n",
       "        vertical-align: middle;\n",
       "    }\n",
       "\n",
       "    .dataframe tbody tr th {\n",
       "        vertical-align: top;\n",
       "    }\n",
       "\n",
       "    .dataframe thead th {\n",
       "        text-align: right;\n",
       "    }\n",
       "</style>\n",
       "<table border=\"1\" class=\"dataframe\">\n",
       "  <thead>\n",
       "    <tr style=\"text-align: right;\">\n",
       "      <th></th>\n",
       "      <th>v1</th>\n",
       "      <th>v2</th>\n",
       "      <th>Unnamed: 2</th>\n",
       "      <th>Unnamed: 3</th>\n",
       "      <th>Unnamed: 4</th>\n",
       "    </tr>\n",
       "  </thead>\n",
       "  <tbody>\n",
       "    <tr>\n",
       "      <th>0</th>\n",
       "      <td>ham</td>\n",
       "      <td>Go until jurong point, crazy.. Available only ...</td>\n",
       "      <td>NaN</td>\n",
       "      <td>NaN</td>\n",
       "      <td>NaN</td>\n",
       "    </tr>\n",
       "    <tr>\n",
       "      <th>1</th>\n",
       "      <td>ham</td>\n",
       "      <td>Ok lar... Joking wif u oni...</td>\n",
       "      <td>NaN</td>\n",
       "      <td>NaN</td>\n",
       "      <td>NaN</td>\n",
       "    </tr>\n",
       "    <tr>\n",
       "      <th>2</th>\n",
       "      <td>spam</td>\n",
       "      <td>Free entry in 2 a wkly comp to win FA Cup fina...</td>\n",
       "      <td>NaN</td>\n",
       "      <td>NaN</td>\n",
       "      <td>NaN</td>\n",
       "    </tr>\n",
       "    <tr>\n",
       "      <th>3</th>\n",
       "      <td>ham</td>\n",
       "      <td>U dun say so early hor... U c already then say...</td>\n",
       "      <td>NaN</td>\n",
       "      <td>NaN</td>\n",
       "      <td>NaN</td>\n",
       "    </tr>\n",
       "    <tr>\n",
       "      <th>4</th>\n",
       "      <td>ham</td>\n",
       "      <td>Nah I don't think he goes to usf, he lives aro...</td>\n",
       "      <td>NaN</td>\n",
       "      <td>NaN</td>\n",
       "      <td>NaN</td>\n",
       "    </tr>\n",
       "  </tbody>\n",
       "</table>\n",
       "</div>"
      ],
      "text/plain": [
       "     v1                                                 v2 Unnamed: 2  \\\n",
       "0   ham  Go until jurong point, crazy.. Available only ...        NaN   \n",
       "1   ham                      Ok lar... Joking wif u oni...        NaN   \n",
       "2  spam  Free entry in 2 a wkly comp to win FA Cup fina...        NaN   \n",
       "3   ham  U dun say so early hor... U c already then say...        NaN   \n",
       "4   ham  Nah I don't think he goes to usf, he lives aro...        NaN   \n",
       "\n",
       "  Unnamed: 3 Unnamed: 4  \n",
       "0        NaN        NaN  \n",
       "1        NaN        NaN  \n",
       "2        NaN        NaN  \n",
       "3        NaN        NaN  \n",
       "4        NaN        NaN  "
      ]
     },
     "execution_count": 3,
     "metadata": {},
     "output_type": "execute_result"
    }
   ],
   "source": [
    "data.head()"
   ]
  },
  {
   "cell_type": "code",
   "execution_count": 4,
   "id": "0b0c573d-2ce2-4b9a-812a-a8d9d7895623",
   "metadata": {},
   "outputs": [],
   "source": [
    "to_drop = [\"Unnamed: 2\",\"Unnamed: 3\",\"Unnamed: 4\"]\n",
    "data = data.drop(data[to_drop], axis=1)\n",
    "\n",
    "data.rename(columns = {\"v1\":\"Target\", \"v2\":\"Text\"}, inplace = True)"
   ]
  },
  {
   "cell_type": "code",
   "execution_count": 5,
   "id": "e412ef92-60d3-4b99-b176-2516e917d517",
   "metadata": {},
   "outputs": [
    {
     "data": {
      "text/html": [
       "<div>\n",
       "<style scoped>\n",
       "    .dataframe tbody tr th:only-of-type {\n",
       "        vertical-align: middle;\n",
       "    }\n",
       "\n",
       "    .dataframe tbody tr th {\n",
       "        vertical-align: top;\n",
       "    }\n",
       "\n",
       "    .dataframe thead th {\n",
       "        text-align: right;\n",
       "    }\n",
       "</style>\n",
       "<table border=\"1\" class=\"dataframe\">\n",
       "  <thead>\n",
       "    <tr style=\"text-align: right;\">\n",
       "      <th></th>\n",
       "      <th>Target</th>\n",
       "      <th>Text</th>\n",
       "    </tr>\n",
       "  </thead>\n",
       "  <tbody>\n",
       "    <tr>\n",
       "      <th>0</th>\n",
       "      <td>ham</td>\n",
       "      <td>Go until jurong point, crazy.. Available only ...</td>\n",
       "    </tr>\n",
       "    <tr>\n",
       "      <th>1</th>\n",
       "      <td>ham</td>\n",
       "      <td>Ok lar... Joking wif u oni...</td>\n",
       "    </tr>\n",
       "    <tr>\n",
       "      <th>2</th>\n",
       "      <td>spam</td>\n",
       "      <td>Free entry in 2 a wkly comp to win FA Cup fina...</td>\n",
       "    </tr>\n",
       "    <tr>\n",
       "      <th>3</th>\n",
       "      <td>ham</td>\n",
       "      <td>U dun say so early hor... U c already then say...</td>\n",
       "    </tr>\n",
       "    <tr>\n",
       "      <th>4</th>\n",
       "      <td>ham</td>\n",
       "      <td>Nah I don't think he goes to usf, he lives aro...</td>\n",
       "    </tr>\n",
       "  </tbody>\n",
       "</table>\n",
       "</div>"
      ],
      "text/plain": [
       "  Target                                               Text\n",
       "0    ham  Go until jurong point, crazy.. Available only ...\n",
       "1    ham                      Ok lar... Joking wif u oni...\n",
       "2   spam  Free entry in 2 a wkly comp to win FA Cup fina...\n",
       "3    ham  U dun say so early hor... U c already then say...\n",
       "4    ham  Nah I don't think he goes to usf, he lives aro..."
      ]
     },
     "execution_count": 5,
     "metadata": {},
     "output_type": "execute_result"
    }
   ],
   "source": [
    "data.head()"
   ]
  },
  {
   "cell_type": "code",
   "execution_count": 6,
   "id": "ff2ce3a6-9354-4ecb-a2fa-8406d1b55bb5",
   "metadata": {},
   "outputs": [
    {
     "data": {
      "text/plain": [
       "Text(0, 0.5, 'Number of Data points')"
      ]
     },
     "execution_count": 6,
     "metadata": {},
     "output_type": "execute_result"
    },
    {
     "data": {
      "image/png": "[encoded data removed]",
      "text/plain": [
       "<Figure size 1600x800 with 1 Axes>"
      ]
     },
     "metadata": {},
     "output_type": "display_data"
    }
   ],
   "source": [
    "\n",
    "cols = [\"#E1F16B\", \"#E598D8\"]\n",
    "\n",
    "plt.figure(figsize=(16, 8))\n",
    "fg = sns.countplot(data=data, x=\"Target\", hue=\"Target\", palette=cols, legend=False)\n",
    "\n",
    "for p in fg.patches:\n",
    "    height = p.get_height()\n",
    "    x_position = p.get_x() + p.get_width() / 2\n",
    "    fg.text(x_position, height + 0.5, str(int(height)), ha='center', va='bottom', color=\"#58508d\")\n",
    "\n",
    "\n",
    "fg.set_title(\"Count Plot of Classes\", color=\"#58508d\")\n",
    "fg.set_xlabel(\"Classes\", color=\"#58508d\")\n",
    "fg.set_ylabel(\"Number of Data points\", color=\"#58508d\")\n",
    "\n",
    "\n"
   ]
  },
  {
   "cell_type": "code",
   "execution_count": 7,
   "id": "a0602cfa-e6ca-4150-bf31-a48772b72700",
   "metadata": {},
   "outputs": [],
   "source": [
    "data[\"No_of_Characters\"] = data[\"Text\"].apply(len)\n",
    "data[\"No_of_Words\"]=data.apply(lambda row: nltk.word_tokenize(row[\"Text\"]), axis=1).apply(len)\n",
    "data[\"No_of_sentence\"]=data.apply(lambda row: nltk.sent_tokenize(row[\"Text\"]), axis=1).apply(len)\n",
    "\n",
    "#data.describe().T"
   ]
  },
  {
   "cell_type": "code",
   "execution_count": 8,
   "id": "e05d1b35-f9a0-4dfb-8c6b-e4f2bd815e16",
   "metadata": {},
   "outputs": [
    {
     "data": {
      "text/html": [
       "<div>\n",
       "<style scoped>\n",
       "    .dataframe tbody tr th:only-of-type {\n",
       "        vertical-align: middle;\n",
       "    }\n",
       "\n",
       "    .dataframe tbody tr th {\n",
       "        vertical-align: top;\n",
       "    }\n",
       "\n",
       "    .dataframe thead th {\n",
       "        text-align: right;\n",
       "    }\n",
       "</style>\n",
       "<table border=\"1\" class=\"dataframe\">\n",
       "  <thead>\n",
       "    <tr style=\"text-align: right;\">\n",
       "      <th></th>\n",
       "      <th>Target</th>\n",
       "      <th>Text</th>\n",
       "      <th>No_of_Characters</th>\n",
       "      <th>No_of_Words</th>\n",
       "      <th>No_of_sentence</th>\n",
       "    </tr>\n",
       "  </thead>\n",
       "  <tbody>\n",
       "    <tr>\n",
       "      <th>0</th>\n",
       "      <td>ham</td>\n",
       "      <td>Go until jurong point, crazy.. Available only ...</td>\n",
       "      <td>111</td>\n",
       "      <td>24</td>\n",
       "      <td>2</td>\n",
       "    </tr>\n",
       "    <tr>\n",
       "      <th>1</th>\n",
       "      <td>ham</td>\n",
       "      <td>Ok lar... Joking wif u oni...</td>\n",
       "      <td>29</td>\n",
       "      <td>8</td>\n",
       "      <td>2</td>\n",
       "    </tr>\n",
       "    <tr>\n",
       "      <th>2</th>\n",
       "      <td>spam</td>\n",
       "      <td>Free entry in 2 a wkly comp to win FA Cup fina...</td>\n",
       "      <td>155</td>\n",
       "      <td>37</td>\n",
       "      <td>2</td>\n",
       "    </tr>\n",
       "    <tr>\n",
       "      <th>3</th>\n",
       "      <td>ham</td>\n",
       "      <td>U dun say so early hor... U c already then say...</td>\n",
       "      <td>49</td>\n",
       "      <td>13</td>\n",
       "      <td>1</td>\n",
       "    </tr>\n",
       "    <tr>\n",
       "      <th>4</th>\n",
       "      <td>ham</td>\n",
       "      <td>Nah I don't think he goes to usf, he lives aro...</td>\n",
       "      <td>61</td>\n",
       "      <td>15</td>\n",
       "      <td>1</td>\n",
       "    </tr>\n",
       "  </tbody>\n",
       "</table>\n",
       "</div>"
      ],
      "text/plain": [
       "  Target                                               Text  No_of_Characters  \\\n",
       "0    ham  Go until jurong point, crazy.. Available only ...               111   \n",
       "1    ham                      Ok lar... Joking wif u oni...                29   \n",
       "2   spam  Free entry in 2 a wkly comp to win FA Cup fina...               155   \n",
       "3    ham  U dun say so early hor... U c already then say...                49   \n",
       "4    ham  Nah I don't think he goes to usf, he lives aro...                61   \n",
       "\n",
       "   No_of_Words  No_of_sentence  \n",
       "0           24               2  \n",
       "1            8               2  \n",
       "2           37               2  \n",
       "3           13               1  \n",
       "4           15               1  "
      ]
     },
     "execution_count": 8,
     "metadata": {},
     "output_type": "execute_result"
    }
   ],
   "source": [
    "data.head()"
   ]
  },
  {
   "cell_type": "code",
   "execution_count": 9,
   "id": "a2651fcd-3272-4c96-a7d7-9f215fda94f2",
   "metadata": {},
   "outputs": [],
   "source": [
    "#plt.figure(figsize=(12,8))\n",
    "#fg = sns.pairplot(data=data, hue=\"Target\",palette=cols)\n",
    "#plt.show(fg)"
   ]
  },
  {
   "cell_type": "code",
   "execution_count": 10,
   "id": "35fbb7e6-7634-46f1-8af5-8dc2f1d78e38",
   "metadata": {},
   "outputs": [
    {
     "data": {
      "text/plain": [
       "(5548, 5)"
      ]
     },
     "execution_count": 10,
     "metadata": {},
     "output_type": "execute_result"
    }
   ],
   "source": [
    "data = data[(data[\"No_of_Characters\"]<350)]\n",
    "data.shape"
   ]
  },
  {
   "cell_type": "code",
   "execution_count": 11,
   "id": "89912aee-d2ed-492c-bb37-dfecbc543d06",
   "metadata": {},
   "outputs": [],
   "source": [
    "#plt.figure(figsize=(12,8))\n",
    "#fg = sns.pairplot(data=data, hue=\"Target\",palette=cols)\n",
    "#plt.show(fg)"
   ]
  },
  {
   "cell_type": "code",
   "execution_count": 12,
   "id": "a3d43558-d108-469f-8283-d0a7fbf3f519",
   "metadata": {},
   "outputs": [
    {
     "data": {
      "text/plain": [
       "(5475, 5)"
      ]
     },
     "execution_count": 12,
     "metadata": {},
     "output_type": "execute_result"
    }
   ],
   "source": [
    "data = data[(data[\"No_of_Words\"]<50)]\n",
    "data.shape"
   ]
  },
  {
   "cell_type": "code",
   "execution_count": 13,
   "id": "ef541df0-faf3-42bf-ab60-a78b0f9db19a",
   "metadata": {},
   "outputs": [],
   "source": [
    "#plt.figure(figsize=(12,8))\n",
    "#fg = sns.pairplot(data=data, hue=\"Target\",palette=cols)\n",
    "#plt.show(fg)"
   ]
  },
  {
   "cell_type": "code",
   "execution_count": 14,
   "id": "093c06c4-d0a3-485d-95c0-5a340bd1049c",
   "metadata": {},
   "outputs": [
    {
     "data": {
      "text/plain": [
       "(5467, 5)"
      ]
     },
     "execution_count": 14,
     "metadata": {},
     "output_type": "execute_result"
    }
   ],
   "source": [
    "data = data[(data[\"No_of_sentence\"]<10)]\n",
    "data.shape"
   ]
  },
  {
   "cell_type": "code",
   "execution_count": 15,
   "id": "c336fb71-668d-44b6-8381-e142feb69300",
   "metadata": {},
   "outputs": [],
   "source": [
    "#plt.figure(figsize=(12,8))\n",
    "#fg = sns.pairplot(data=data, hue=\"Target\",palette=cols)\n",
    "#plt.show(fg)"
   ]
  },
  {
   "cell_type": "code",
   "execution_count": 16,
   "id": "0f7cfc17-f250-4350-8d95-04de5a262482",
   "metadata": {},
   "outputs": [],
   "source": [
    "#print(\"\\033[1m\\u001b[45;1m The First 5 Texts:\\033[0m\",*data[\"Text\"][:5], sep = \"\\n\")"
   ]
  },
  {
   "cell_type": "code",
   "execution_count": 17,
   "id": "79a8166e-8c77-406c-a4b2-990e95a7fd0b",
   "metadata": {},
   "outputs": [],
   "source": [
    "def Clean(Text):\n",
    "    sms = re.sub('[^a-zA-Z]', ' ', Text) \n",
    "    sms = sms.lower() \n",
    "    sms = sms.split()\n",
    "    sms = ' '.join(sms)\n",
    "    return sms\n",
    "\n",
    "data[\"Clean_Text\"] = data[\"Text\"].apply(Clean)\n",
    "#print(\"\\033[1m\\u001b[45;1m The First 5 Texts after cleaning:\\033[0m\",*data[\"Clean_Text\"][:5], sep = \"\\n\")"
   ]
  },
  {
   "cell_type": "code",
   "execution_count": 18,
   "id": "f1f3c794-dd42-4ab6-937c-8dcfdb441f7e",
   "metadata": {},
   "outputs": [],
   "source": [
    "data[\"Tokenize_Text\"]=data.apply(lambda row: nltk.word_tokenize(row[\"Clean_Text\"]), axis=1)\n",
    "\n",
    "#print(\"\\033[1m\\u001b[45;1m The First 5 Texts after Tokenizing:\\033[0m\",*data[\"Tokenize_Text\"][:5], sep = \"\\n\")"
   ]
  },
  {
   "cell_type": "code",
   "execution_count": 19,
   "id": "6c2f05a3-9244-4c8a-b414-4253e3a3434f",
   "metadata": {},
   "outputs": [],
   "source": [
    "def remove_stopwords(text):\n",
    "    stop_words = set(stopwords.words(\"english\"))\n",
    "    filtered_text = [word for word in text if word not in stop_words]\n",
    "    return filtered_text\n",
    "\n",
    "data[\"Nostopword_Text\"] = data[\"Tokenize_Text\"].apply(remove_stopwords)\n",
    "\n",
    "#print(\"\\033[1m\\u001b[45;1m The First 5 Texts after removing the stopwords:\\033[0m\",*data[\"Nostopword_Text\"][:5], sep = \"\\n\")"
   ]
  },
  {
   "cell_type": "code",
   "execution_count": 20,
   "id": "7eb8c85d-e8ab-4fa6-a100-2fa3a7e5c9b3",
   "metadata": {},
   "outputs": [],
   "source": [
    "lemmatizer = WordNetLemmatizer()\n",
    "\n",
    "def lemmatize_word(text):\n",
    "    lemmas = [lemmatizer.lemmatize(word, pos ='v') for word in text]\n",
    "    return lemmas\n",
    "\n",
    "data[\"Lemmatized_Text\"] = data[\"Nostopword_Text\"].apply(lemmatize_word)\n",
    "#print(\"\\033[1m\\u001b[45;1m The First 5 Texts after lemitization:\\033[0m\",*data[\"Lemmatized_Text\"][:5], sep = \"\\n\")"
   ]
  },
  {
   "cell_type": "code",
   "execution_count": 22,
   "id": "39fc2b5d-c3c9-46fb-b40d-a9c33d1136e9",
   "metadata": {},
   "outputs": [
    {
     "data": {
      "text/plain": [
       "['go jurong point crazy available bugis n great world la e buffet cine get amore wat',\n",
       " 'ok lar joke wif u oni',\n",
       " 'free entry wkly comp win fa cup final tkts st may text fa receive entry question std txt rate c apply',\n",
       " 'u dun say early hor u c already say',\n",
       " 'nah think go usf live around though']"
      ]
     },
     "execution_count": 22,
     "metadata": {},
     "output_type": "execute_result"
    }
   ],
   "source": [
    "corpus= []\n",
    "for i in data[\"Lemmatized_Text\"]:\n",
    "    msg = ' '.join([row for row in i])\n",
    "    corpus.append(msg)\n",
    "    \n",
    "corpus[:5]\n",
    "#print(\"\\033[1m\\u001b[45;1m The First 5 lines in corpus :\\033[0m\",*corpus[:5], sep = \"\\n\")"
   ]
  },
  {
   "cell_type": "code",
   "execution_count": 23,
   "id": "69de6cbf-bbac-491f-af2f-f15cec43f9bf",
   "metadata": {},
   "outputs": [
    {
     "data": {
      "text/plain": [
       "dtype('float64')"
      ]
     },
     "execution_count": 23,
     "metadata": {},
     "output_type": "execute_result"
    }
   ],
   "source": [
    "tfidf = TfidfVectorizer()\n",
    "X = tfidf.fit_transform(corpus).toarray()\n",
    "X.dtype"
   ]
  },
  {
   "cell_type": "code",
   "execution_count": 24,
   "id": "e5ca147e-0e1e-438c-8aa1-a24ab0d94bd3",
   "metadata": {},
   "outputs": [
    {
     "data": {
      "text/plain": [
       "(5467, 6307)"
      ]
     },
     "execution_count": 24,
     "metadata": {},
     "output_type": "execute_result"
    }
   ],
   "source": [
    "X.shape"
   ]
  },
  {
   "cell_type": "code",
   "execution_count": 25,
   "id": "75691643-8d8f-41a2-91e4-352ad43767b2",
   "metadata": {},
   "outputs": [],
   "source": [
    "label_encoder = LabelEncoder()\n",
    "data[\"Target\"] = label_encoder.fit_transform(data[\"Target\"])"
   ]
  },
  {
   "cell_type": "code",
   "execution_count": 26,
   "id": "99770846-2c70-4ede-9833-57a6cceab6e7",
   "metadata": {},
   "outputs": [
    {
     "data": {
      "text/html": [
       "<div>\n",
       "<style scoped>\n",
       "    .dataframe tbody tr th:only-of-type {\n",
       "        vertical-align: middle;\n",
       "    }\n",
       "\n",
       "    .dataframe tbody tr th {\n",
       "        vertical-align: top;\n",
       "    }\n",
       "\n",
       "    .dataframe thead th {\n",
       "        text-align: right;\n",
       "    }\n",
       "</style>\n",
       "<table border=\"1\" class=\"dataframe\">\n",
       "  <thead>\n",
       "    <tr style=\"text-align: right;\">\n",
       "      <th></th>\n",
       "      <th>Target</th>\n",
       "      <th>Text</th>\n",
       "      <th>No_of_Characters</th>\n",
       "      <th>No_of_Words</th>\n",
       "      <th>No_of_sentence</th>\n",
       "      <th>Clean_Text</th>\n",
       "      <th>Tokenize_Text</th>\n",
       "      <th>Nostopword_Text</th>\n",
       "      <th>Lemmatized_Text</th>\n",
       "    </tr>\n",
       "  </thead>\n",
       "  <tbody>\n",
       "    <tr>\n",
       "      <th>0</th>\n",
       "      <td>0</td>\n",
       "      <td>Go until jurong point, crazy.. Available only ...</td>\n",
       "      <td>111</td>\n",
       "      <td>24</td>\n",
       "      <td>2</td>\n",
       "      <td>go until jurong point crazy available only in ...</td>\n",
       "      <td>[go, until, jurong, point, crazy, available, o...</td>\n",
       "      <td>[go, jurong, point, crazy, available, bugis, n...</td>\n",
       "      <td>[go, jurong, point, crazy, available, bugis, n...</td>\n",
       "    </tr>\n",
       "    <tr>\n",
       "      <th>1</th>\n",
       "      <td>0</td>\n",
       "      <td>Ok lar... Joking wif u oni...</td>\n",
       "      <td>29</td>\n",
       "      <td>8</td>\n",
       "      <td>2</td>\n",
       "      <td>ok lar joking wif u oni</td>\n",
       "      <td>[ok, lar, joking, wif, u, oni]</td>\n",
       "      <td>[ok, lar, joking, wif, u, oni]</td>\n",
       "      <td>[ok, lar, joke, wif, u, oni]</td>\n",
       "    </tr>\n",
       "    <tr>\n",
       "      <th>2</th>\n",
       "      <td>1</td>\n",
       "      <td>Free entry in 2 a wkly comp to win FA Cup fina...</td>\n",
       "      <td>155</td>\n",
       "      <td>37</td>\n",
       "      <td>2</td>\n",
       "      <td>free entry in a wkly comp to win fa cup final ...</td>\n",
       "      <td>[free, entry, in, a, wkly, comp, to, win, fa, ...</td>\n",
       "      <td>[free, entry, wkly, comp, win, fa, cup, final,...</td>\n",
       "      <td>[free, entry, wkly, comp, win, fa, cup, final,...</td>\n",
       "    </tr>\n",
       "    <tr>\n",
       "      <th>3</th>\n",
       "      <td>0</td>\n",
       "      <td>U dun say so early hor... U c already then say...</td>\n",
       "      <td>49</td>\n",
       "      <td>13</td>\n",
       "      <td>1</td>\n",
       "      <td>u dun say so early hor u c already then say</td>\n",
       "      <td>[u, dun, say, so, early, hor, u, c, already, t...</td>\n",
       "      <td>[u, dun, say, early, hor, u, c, already, say]</td>\n",
       "      <td>[u, dun, say, early, hor, u, c, already, say]</td>\n",
       "    </tr>\n",
       "    <tr>\n",
       "      <th>4</th>\n",
       "      <td>0</td>\n",
       "      <td>Nah I don't think he goes to usf, he lives aro...</td>\n",
       "      <td>61</td>\n",
       "      <td>15</td>\n",
       "      <td>1</td>\n",
       "      <td>nah i don t think he goes to usf he lives arou...</td>\n",
       "      <td>[nah, i, don, t, think, he, goes, to, usf, he,...</td>\n",
       "      <td>[nah, think, goes, usf, lives, around, though]</td>\n",
       "      <td>[nah, think, go, usf, live, around, though]</td>\n",
       "    </tr>\n",
       "    <tr>\n",
       "      <th>...</th>\n",
       "      <td>...</td>\n",
       "      <td>...</td>\n",
       "      <td>...</td>\n",
       "      <td>...</td>\n",
       "      <td>...</td>\n",
       "      <td>...</td>\n",
       "      <td>...</td>\n",
       "      <td>...</td>\n",
       "      <td>...</td>\n",
       "    </tr>\n",
       "    <tr>\n",
       "      <th>5567</th>\n",
       "      <td>1</td>\n",
       "      <td>This is the 2nd time we have tried 2 contact u...</td>\n",
       "      <td>161</td>\n",
       "      <td>35</td>\n",
       "      <td>4</td>\n",
       "      <td>this is the nd time we have tried contact u u ...</td>\n",
       "      <td>[this, is, the, nd, time, we, have, tried, con...</td>\n",
       "      <td>[nd, time, tried, contact, u, u, pound, prize,...</td>\n",
       "      <td>[nd, time, try, contact, u, u, pound, prize, c...</td>\n",
       "    </tr>\n",
       "    <tr>\n",
       "      <th>5568</th>\n",
       "      <td>0</td>\n",
       "      <td>Will Ì_ b going to esplanade fr home?</td>\n",
       "      <td>37</td>\n",
       "      <td>9</td>\n",
       "      <td>1</td>\n",
       "      <td>will b going to esplanade fr home</td>\n",
       "      <td>[will, b, going, to, esplanade, fr, home]</td>\n",
       "      <td>[b, going, esplanade, fr, home]</td>\n",
       "      <td>[b, go, esplanade, fr, home]</td>\n",
       "    </tr>\n",
       "    <tr>\n",
       "      <th>5569</th>\n",
       "      <td>0</td>\n",
       "      <td>Pity, * was in mood for that. So...any other s...</td>\n",
       "      <td>57</td>\n",
       "      <td>15</td>\n",
       "      <td>2</td>\n",
       "      <td>pity was in mood for that so any other suggest...</td>\n",
       "      <td>[pity, was, in, mood, for, that, so, any, othe...</td>\n",
       "      <td>[pity, mood, suggestions]</td>\n",
       "      <td>[pity, mood, suggestions]</td>\n",
       "    </tr>\n",
       "    <tr>\n",
       "      <th>5570</th>\n",
       "      <td>0</td>\n",
       "      <td>The guy did some bitching but I acted like i'd...</td>\n",
       "      <td>125</td>\n",
       "      <td>27</td>\n",
       "      <td>1</td>\n",
       "      <td>the guy did some bitching but i acted like i d...</td>\n",
       "      <td>[the, guy, did, some, bitching, but, i, acted,...</td>\n",
       "      <td>[guy, bitching, acted, like, interested, buyin...</td>\n",
       "      <td>[guy, bitch, act, like, interest, buy, somethi...</td>\n",
       "    </tr>\n",
       "    <tr>\n",
       "      <th>5571</th>\n",
       "      <td>0</td>\n",
       "      <td>Rofl. Its true to its name</td>\n",
       "      <td>26</td>\n",
       "      <td>7</td>\n",
       "      <td>2</td>\n",
       "      <td>rofl its true to its name</td>\n",
       "      <td>[rofl, its, true, to, its, name]</td>\n",
       "      <td>[rofl, true, name]</td>\n",
       "      <td>[rofl, true, name]</td>\n",
       "    </tr>\n",
       "  </tbody>\n",
       "</table>\n",
       "<p>5467 rows × 9 columns</p>\n",
       "</div>"
      ],
      "text/plain": [
       "      Target                                               Text  \\\n",
       "0          0  Go until jurong point, crazy.. Available only ...   \n",
       "1          0                      Ok lar... Joking wif u oni...   \n",
       "2          1  Free entry in 2 a wkly comp to win FA Cup fina...   \n",
       "3          0  U dun say so early hor... U c already then say...   \n",
       "4          0  Nah I don't think he goes to usf, he lives aro...   \n",
       "...      ...                                                ...   \n",
       "5567       1  This is the 2nd time we have tried 2 contact u...   \n",
       "5568       0              Will Ì_ b going to esplanade fr home?   \n",
       "5569       0  Pity, * was in mood for that. So...any other s...   \n",
       "5570       0  The guy did some bitching but I acted like i'd...   \n",
       "5571       0                         Rofl. Its true to its name   \n",
       "\n",
       "      No_of_Characters  No_of_Words  No_of_sentence  \\\n",
       "0                  111           24               2   \n",
       "1                   29            8               2   \n",
       "2                  155           37               2   \n",
       "3                   49           13               1   \n",
       "4                   61           15               1   \n",
       "...                ...          ...             ...   \n",
       "5567               161           35               4   \n",
       "5568                37            9               1   \n",
       "5569                57           15               2   \n",
       "5570               125           27               1   \n",
       "5571                26            7               2   \n",
       "\n",
       "                                             Clean_Text  \\\n",
       "0     go until jurong point crazy available only in ...   \n",
       "1                               ok lar joking wif u oni   \n",
       "2     free entry in a wkly comp to win fa cup final ...   \n",
       "3           u dun say so early hor u c already then say   \n",
       "4     nah i don t think he goes to usf he lives arou...   \n",
       "...                                                 ...   \n",
       "5567  this is the nd time we have tried contact u u ...   \n",
       "5568                  will b going to esplanade fr home   \n",
       "5569  pity was in mood for that so any other suggest...   \n",
       "5570  the guy did some bitching but i acted like i d...   \n",
       "5571                          rofl its true to its name   \n",
       "\n",
       "                                          Tokenize_Text  \\\n",
       "0     [go, until, jurong, point, crazy, available, o...   \n",
       "1                        [ok, lar, joking, wif, u, oni]   \n",
       "2     [free, entry, in, a, wkly, comp, to, win, fa, ...   \n",
       "3     [u, dun, say, so, early, hor, u, c, already, t...   \n",
       "4     [nah, i, don, t, think, he, goes, to, usf, he,...   \n",
       "...                                                 ...   \n",
       "5567  [this, is, the, nd, time, we, have, tried, con...   \n",
       "5568          [will, b, going, to, esplanade, fr, home]   \n",
       "5569  [pity, was, in, mood, for, that, so, any, othe...   \n",
       "5570  [the, guy, did, some, bitching, but, i, acted,...   \n",
       "5571                   [rofl, its, true, to, its, name]   \n",
       "\n",
       "                                        Nostopword_Text  \\\n",
       "0     [go, jurong, point, crazy, available, bugis, n...   \n",
       "1                        [ok, lar, joking, wif, u, oni]   \n",
       "2     [free, entry, wkly, comp, win, fa, cup, final,...   \n",
       "3         [u, dun, say, early, hor, u, c, already, say]   \n",
       "4        [nah, think, goes, usf, lives, around, though]   \n",
       "...                                                 ...   \n",
       "5567  [nd, time, tried, contact, u, u, pound, prize,...   \n",
       "5568                    [b, going, esplanade, fr, home]   \n",
       "5569                          [pity, mood, suggestions]   \n",
       "5570  [guy, bitching, acted, like, interested, buyin...   \n",
       "5571                                 [rofl, true, name]   \n",
       "\n",
       "                                        Lemmatized_Text  \n",
       "0     [go, jurong, point, crazy, available, bugis, n...  \n",
       "1                          [ok, lar, joke, wif, u, oni]  \n",
       "2     [free, entry, wkly, comp, win, fa, cup, final,...  \n",
       "3         [u, dun, say, early, hor, u, c, already, say]  \n",
       "4           [nah, think, go, usf, live, around, though]  \n",
       "...                                                 ...  \n",
       "5567  [nd, time, try, contact, u, u, pound, prize, c...  \n",
       "5568                       [b, go, esplanade, fr, home]  \n",
       "5569                          [pity, mood, suggestions]  \n",
       "5570  [guy, bitch, act, like, interest, buy, somethi...  \n",
       "5571                                 [rofl, true, name]  \n",
       "\n",
       "[5467 rows x 9 columns]"
      ]
     },
     "execution_count": 26,
     "metadata": {},
     "output_type": "execute_result"
    }
   ],
   "source": [
    "data"
   ]
  },
  {
   "cell_type": "code",
   "execution_count": 27,
   "id": "c244a228-b17a-4981-9fb2-d1218fa62f50",
   "metadata": {},
   "outputs": [],
   "source": [
    "y = data[\"Target\"] \n",
    "X_train, X_test, y_train, y_test = train_test_split(X, y, test_size=0.2, random_state=42)"
   ]
  },
  {
   "cell_type": "code",
   "execution_count": 28,
   "id": "bbc97ca6-7cee-48c9-9ec8-e743fd0f101c",
   "metadata": {},
   "outputs": [
    {
     "name": "stdout",
     "output_type": "stream",
     "text": [
      "(4373, 6307)\n",
      "(1094, 6307)\n",
      "(4373,)\n",
      "(1094,)\n"
     ]
    }
   ],
   "source": [
    "print(X_train.shape)\n",
    "print(X_test.shape)\n",
    "print(y_train.shape)\n",
    "print(y_test.shape)"
   ]
  },
  {
   "cell_type": "code",
   "execution_count": 29,
   "id": "f440dcae-5f13-4d78-a784-96fce166e5d7",
   "metadata": {},
   "outputs": [],
   "source": [
    "classifiers = [\n",
    "    MultinomialNB(),\n",
    "    RandomForestClassifier(),\n",
    "    KNeighborsClassifier(),\n",
    "    SVC(),\n",
    "    LinearSVC(),  \n",
    "    LogisticRegression(max_iter=1000),\n",
    "    GradientBoostingClassifier(),\n",
    "    AdaBoostClassifier(),\n",
    "    DecisionTreeClassifier(),\n",
    "    XGBClassifier(eval_metric='logloss') \n",
    "]\n",
    "for cls in classifiers:\n",
    "    cls.fit(X_train, y_train)\n",
    "\n",
    "pipe_dict = {\n",
    "    0: \"NaiveBayes\",\n",
    "    1: \"RandomForest\",\n",
    "    2: \"KNeighbours\",\n",
    "    3: \"SVC\",\n",
    "    4: \"LinearSVC\",\n",
    "    5: \"LogisticRegression\",\n",
    "    6: \"GradientBoosting\",\n",
    "    7: \"AdaBoost\",\n",
    "    8: \"DecisionTree\",\n",
    "    9: \"XGBoost\"\n",
    "}\n"
   ]
  },
  {
   "cell_type": "code",
   "execution_count": 30,
   "id": "1e42c86a-b39d-4ebb-a6ec-cb48758e3c65",
   "metadata": {},
   "outputs": [
    {
     "name": "stdout",
     "output_type": "stream",
     "text": [
      "NaiveBayes: 0.967296 \n",
      "RandomForest: 0.978730 \n",
      "KNeighbours: 0.910130 \n",
      "SVC: 0.976903 \n",
      "LinearSVC: 0.984677 \n",
      "LogisticRegression: 0.957693 \n",
      "GradientBoosting: 0.970269 \n",
      "AdaBoost: 0.926594 \n",
      "DecisionTree: 0.959520 \n",
      "XGBoost: 0.976902 \n"
     ]
    }
   ],
   "source": [
    "for i, model in enumerate(classifiers):\n",
    "    cv_score = cross_val_score(model, X_train, y_train,scoring=\"accuracy\", cv=10)\n",
    "    print(\"%s: %f \" % (pipe_dict[i], cv_score.mean()))"
   ]
  },
  {
   "cell_type": "code",
   "execution_count": 31,
   "id": "524e4a71-93bf-4ee1-bc1f-6f737d3535f2",
   "metadata": {},
   "outputs": [],
   "source": [
    "precision =[]\n",
    "recall =[]\n",
    "f1_score = []\n",
    "trainset_accuracy = []\n",
    "testset_accuracy = []\n",
    "\n",
    "for i in classifiers:\n",
    "    pred_train = i.predict(X_train)\n",
    "    pred_test = i.predict(X_test)\n",
    "    prec = metrics.precision_score(y_test, pred_test)\n",
    "    recal = metrics.recall_score(y_test, pred_test)\n",
    "    f1_s = metrics.f1_score(y_test, pred_test)\n",
    "    train_accuracy = model.score(X_train,y_train)\n",
    "    test_accuracy = model.score(X_test,y_test)\n",
    "  \n",
    "    precision.append(prec)\n",
    "    recall.append(recal)\n",
    "    f1_score.append(f1_s)\n",
    "    trainset_accuracy.append(train_accuracy)\n",
    "    testset_accuracy.append(test_accuracy)\n"
   ]
  },
  {
   "cell_type": "code",
   "execution_count": 32,
   "id": "f0d282e4-1909-4bf1-91b7-57e468674bbb",
   "metadata": {},
   "outputs": [],
   "source": [
    "data = {'Precision':precision,\n",
    "'Recall':recall,\n",
    "'F1score':f1_score,\n",
    "'Accuracy on Testset':testset_accuracy,\n",
    "'Accuracy on Trainset':trainset_accuracy}\n",
    "\n",
    "Results = pd.DataFrame(data, index =[\"NaiveBayes\", \"RandomForest\", \"KNeighbours\", \"SVC\", \"LinearSVC\", \"LogisticRegression\", \"GradientBoosting\", \"AdaBoost\", \"DecisionTree\", \"XGBoost\"])"
   ]
  },
  {
   "cell_type": "code",
   "execution_count": 37,
   "id": "1938ba41-7100-43c1-a84d-d913ce78bc4a",
   "metadata": {},
   "outputs": [
    {
     "data": {
      "text/html": [
       "<style type=\"text/css\">\n",
       "#T_a722c_row0_col0, #T_a722c_row0_col1, #T_a722c_row0_col2, #T_a722c_row1_col0, #T_a722c_row1_col1, #T_a722c_row1_col2, #T_a722c_row2_col0, #T_a722c_row3_col0, #T_a722c_row3_col1, #T_a722c_row3_col2, #T_a722c_row4_col0, #T_a722c_row4_col1, #T_a722c_row4_col2, #T_a722c_row5_col0, #T_a722c_row5_col1, #T_a722c_row5_col2, #T_a722c_row6_col0, #T_a722c_row6_col1, #T_a722c_row6_col2, #T_a722c_row8_col1, #T_a722c_row8_col2, #T_a722c_row9_col0, #T_a722c_row9_col1, #T_a722c_row9_col2 {\n",
       "  background-color: #f1be6b;\n",
       "  color: #000000;\n",
       "}\n",
       "#T_a722c_row0_col3, #T_a722c_row0_col4, #T_a722c_row1_col3, #T_a722c_row1_col4, #T_a722c_row2_col1, #T_a722c_row2_col2, #T_a722c_row2_col3, #T_a722c_row2_col4, #T_a722c_row3_col3, #T_a722c_row3_col4, #T_a722c_row4_col3, #T_a722c_row4_col4, #T_a722c_row5_col3, #T_a722c_row5_col4, #T_a722c_row6_col3, #T_a722c_row6_col4, #T_a722c_row7_col0, #T_a722c_row7_col1, #T_a722c_row7_col2, #T_a722c_row7_col3, #T_a722c_row7_col4, #T_a722c_row8_col0, #T_a722c_row8_col3, #T_a722c_row8_col4, #T_a722c_row9_col3, #T_a722c_row9_col4 {\n",
       "  background-color: #e1f16b;\n",
       "  color: #000000;\n",
       "}\n",
       "</style>\n",
       "<table id=\"T_a722c\">\n",
       "  <thead>\n",
       "    <tr>\n",
       "      <th class=\"blank level0\" >&nbsp;</th>\n",
       "      <th id=\"T_a722c_level0_col0\" class=\"col_heading level0 col0\" >Precision</th>\n",
       "      <th id=\"T_a722c_level0_col1\" class=\"col_heading level0 col1\" >Recall</th>\n",
       "      <th id=\"T_a722c_level0_col2\" class=\"col_heading level0 col2\" >F1score</th>\n",
       "      <th id=\"T_a722c_level0_col3\" class=\"col_heading level0 col3\" >Accuracy on Testset</th>\n",
       "      <th id=\"T_a722c_level0_col4\" class=\"col_heading level0 col4\" >Accuracy on Trainset</th>\n",
       "    </tr>\n",
       "  </thead>\n",
       "  <tbody>\n",
       "    <tr>\n",
       "      <th id=\"T_a722c_level0_row0\" class=\"row_heading level0 row0\" >NaiveBayes</th>\n",
       "      <td id=\"T_a722c_row0_col0\" class=\"data row0 col0\" >1.000000</td>\n",
       "      <td id=\"T_a722c_row0_col1\" class=\"data row0 col1\" >0.787671</td>\n",
       "      <td id=\"T_a722c_row0_col2\" class=\"data row0 col2\" >0.881226</td>\n",
       "      <td id=\"T_a722c_row0_col3\" class=\"data row0 col3\" >0.977148</td>\n",
       "      <td id=\"T_a722c_row0_col4\" class=\"data row0 col4\" >0.992911</td>\n",
       "    </tr>\n",
       "    <tr>\n",
       "      <th id=\"T_a722c_level0_row1\" class=\"row_heading level0 row1\" >RandomForest</th>\n",
       "      <td id=\"T_a722c_row1_col0\" class=\"data row1 col0\" >1.000000</td>\n",
       "      <td id=\"T_a722c_row1_col1\" class=\"data row1 col1\" >0.835616</td>\n",
       "      <td id=\"T_a722c_row1_col2\" class=\"data row1 col2\" >0.910448</td>\n",
       "      <td id=\"T_a722c_row1_col3\" class=\"data row1 col3\" >0.977148</td>\n",
       "      <td id=\"T_a722c_row1_col4\" class=\"data row1 col4\" >0.992911</td>\n",
       "    </tr>\n",
       "    <tr>\n",
       "      <th id=\"T_a722c_level0_row2\" class=\"row_heading level0 row2\" >KNeighbours</th>\n",
       "      <td id=\"T_a722c_row2_col0\" class=\"data row2 col0\" >1.000000</td>\n",
       "      <td id=\"T_a722c_row2_col1\" class=\"data row2 col1\" >0.390411</td>\n",
       "      <td id=\"T_a722c_row2_col2\" class=\"data row2 col2\" >0.561576</td>\n",
       "      <td id=\"T_a722c_row2_col3\" class=\"data row2 col3\" >0.977148</td>\n",
       "      <td id=\"T_a722c_row2_col4\" class=\"data row2 col4\" >0.992911</td>\n",
       "    </tr>\n",
       "    <tr>\n",
       "      <th id=\"T_a722c_level0_row3\" class=\"row_heading level0 row3\" >SVC</th>\n",
       "      <td id=\"T_a722c_row3_col0\" class=\"data row3 col0\" >0.992063</td>\n",
       "      <td id=\"T_a722c_row3_col1\" class=\"data row3 col1\" >0.856164</td>\n",
       "      <td id=\"T_a722c_row3_col2\" class=\"data row3 col2\" >0.919118</td>\n",
       "      <td id=\"T_a722c_row3_col3\" class=\"data row3 col3\" >0.977148</td>\n",
       "      <td id=\"T_a722c_row3_col4\" class=\"data row3 col4\" >0.992911</td>\n",
       "    </tr>\n",
       "    <tr>\n",
       "      <th id=\"T_a722c_level0_row4\" class=\"row_heading level0 row4\" >LinearSVC</th>\n",
       "      <td id=\"T_a722c_row4_col0\" class=\"data row4 col0\" >0.984615</td>\n",
       "      <td id=\"T_a722c_row4_col1\" class=\"data row4 col1\" >0.876712</td>\n",
       "      <td id=\"T_a722c_row4_col2\" class=\"data row4 col2\" >0.927536</td>\n",
       "      <td id=\"T_a722c_row4_col3\" class=\"data row4 col3\" >0.977148</td>\n",
       "      <td id=\"T_a722c_row4_col4\" class=\"data row4 col4\" >0.992911</td>\n",
       "    </tr>\n",
       "    <tr>\n",
       "      <th id=\"T_a722c_level0_row5\" class=\"row_heading level0 row5\" >LogisticRegression</th>\n",
       "      <td id=\"T_a722c_row5_col0\" class=\"data row5 col0\" >0.982456</td>\n",
       "      <td id=\"T_a722c_row5_col1\" class=\"data row5 col1\" >0.767123</td>\n",
       "      <td id=\"T_a722c_row5_col2\" class=\"data row5 col2\" >0.861538</td>\n",
       "      <td id=\"T_a722c_row5_col3\" class=\"data row5 col3\" >0.977148</td>\n",
       "      <td id=\"T_a722c_row5_col4\" class=\"data row5 col4\" >0.992911</td>\n",
       "    </tr>\n",
       "    <tr>\n",
       "      <th id=\"T_a722c_level0_row6\" class=\"row_heading level0 row6\" >GradientBoosting</th>\n",
       "      <td id=\"T_a722c_row6_col0\" class=\"data row6 col0\" >0.974790</td>\n",
       "      <td id=\"T_a722c_row6_col1\" class=\"data row6 col1\" >0.794521</td>\n",
       "      <td id=\"T_a722c_row6_col2\" class=\"data row6 col2\" >0.875472</td>\n",
       "      <td id=\"T_a722c_row6_col3\" class=\"data row6 col3\" >0.977148</td>\n",
       "      <td id=\"T_a722c_row6_col4\" class=\"data row6 col4\" >0.992911</td>\n",
       "    </tr>\n",
       "    <tr>\n",
       "      <th id=\"T_a722c_level0_row7\" class=\"row_heading level0 row7\" >AdaBoost</th>\n",
       "      <td id=\"T_a722c_row7_col0\" class=\"data row7 col0\" >0.864583</td>\n",
       "      <td id=\"T_a722c_row7_col1\" class=\"data row7 col1\" >0.568493</td>\n",
       "      <td id=\"T_a722c_row7_col2\" class=\"data row7 col2\" >0.685950</td>\n",
       "      <td id=\"T_a722c_row7_col3\" class=\"data row7 col3\" >0.977148</td>\n",
       "      <td id=\"T_a722c_row7_col4\" class=\"data row7 col4\" >0.992911</td>\n",
       "    </tr>\n",
       "    <tr>\n",
       "      <th id=\"T_a722c_level0_row8\" class=\"row_heading level0 row8\" >DecisionTree</th>\n",
       "      <td id=\"T_a722c_row8_col0\" class=\"data row8 col0\" >0.866197</td>\n",
       "      <td id=\"T_a722c_row8_col1\" class=\"data row8 col1\" >0.842466</td>\n",
       "      <td id=\"T_a722c_row8_col2\" class=\"data row8 col2\" >0.854167</td>\n",
       "      <td id=\"T_a722c_row8_col3\" class=\"data row8 col3\" >0.977148</td>\n",
       "      <td id=\"T_a722c_row8_col4\" class=\"data row8 col4\" >0.992911</td>\n",
       "    </tr>\n",
       "    <tr>\n",
       "      <th id=\"T_a722c_level0_row9\" class=\"row_heading level0 row9\" >XGBoost</th>\n",
       "      <td id=\"T_a722c_row9_col0\" class=\"data row9 col0\" >0.961832</td>\n",
       "      <td id=\"T_a722c_row9_col1\" class=\"data row9 col1\" >0.863014</td>\n",
       "      <td id=\"T_a722c_row9_col2\" class=\"data row9 col2\" >0.909747</td>\n",
       "      <td id=\"T_a722c_row9_col3\" class=\"data row9 col3\" >0.977148</td>\n",
       "      <td id=\"T_a722c_row9_col4\" class=\"data row9 col4\" >0.992911</td>\n",
       "    </tr>\n",
       "  </tbody>\n",
       "</table>\n"
      ],
      "text/plain": [
       "<pandas.io.formats.style.Styler at 0x1753f53a0>"
      ]
     },
     "execution_count": 37,
     "metadata": {},
     "output_type": "execute_result"
    }
   ],
   "source": [
    "cmap2 = ListedColormap([\"#E1F16B\",\"#f1be6b\"])\n",
    "Results.style.background_gradient(cmap=cmap2)"
   ]
  },
  {
   "cell_type": "code",
   "execution_count": 40,
   "id": "3b916986-69f3-4cec-90d4-427c506ca967",
   "metadata": {},
   "outputs": [
    {
     "data": {
      "image/png": "[encoded data removed]",
      "text/plain": [
       "<Figure size 500x1000 with 10 Axes>"
      ]
     },
     "metadata": {},
     "output_type": "display_data"
    }
   ],
   "source": [
    "from sklearn.metrics import confusion_matrix\n",
    "\n",
    "cmap = ListedColormap([\"#E1F16B\", \"#f17b6b\"])\n",
    "fig, axes = plt.subplots(nrows=5, ncols=2, figsize=(5,10))\n",
    "\n",
    "fig.suptitle(\"Confusion Matrixes for All Classifiers\", fontsize=20)\n",
    "\n",
    "\n",
    "for cls, ax in zip(classifiers, axes.flatten()):\n",
    "    y_pred = cls.predict(X_test)\n",
    "    cm = confusion_matrix(y_test, y_pred)\n",
    "    disp = ConfusionMatrixDisplay(confusion_matrix=cm, display_labels=cls.classes_ if hasattr(cls, \"classes_\") else [0,1])\n",
    "    disp.plot(cmap=cmap, ax=ax, colorbar=False)\n",
    "    ax.title.set_text(type(cls).__name__)\n",
    "\n",
    "    \n",
    "plt.tight_layout()\n",
    "plt.show()"
   ]
  },
  {
   "cell_type": "code",
   "execution_count": null,
   "id": "2b9e8c3c-10c7-4bfe-be50-90fadb7a42fd",
   "metadata": {},
   "outputs": [],
   "source": []
  }
 ],
 "metadata": {
  "kernelspec": {
   "display_name": "Python 3 (ipykernel)",
   "language": "python",
   "name": "python3"
  },
  "language_info": {
   "codemirror_mode": {
    "name": "ipython",
    "version": 3
   },
   "file_extension": ".py",
   "mimetype": "text/x-python",
   "name": "python",
   "nbconvert_exporter": "python",
   "pygments_lexer": "ipython3",
   "version": "3.9.6"
  }
 },
 "nbformat": 4,
 "nbformat_minor": 5
}
